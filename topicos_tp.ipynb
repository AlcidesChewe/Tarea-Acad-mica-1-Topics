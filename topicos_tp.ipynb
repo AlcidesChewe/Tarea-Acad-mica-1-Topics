{
  "nbformat": 4,
  "nbformat_minor": 0,
  "metadata": {
    "colab": {
      "provenance": [],
      "include_colab_link": true
    },
    "kernelspec": {
      "name": "python3",
      "display_name": "Python 3"
    },
    "language_info": {
      "name": "python"
    }
  },
  "cells": [
    {
      "cell_type": "markdown",
      "metadata": {
        "id": "view-in-github",
        "colab_type": "text"
      },
      "source": [
        "<a href=\"https://colab.research.google.com/github/AlcidesChewe/Tarea-Academica-1-Topics/blob/main/topicos_tp.ipynb\" target=\"_parent\"><img src=\"https://colab.research.google.com/assets/colab-badge.svg\" alt=\"Open In Colab\"/></a>"
      ]
    },
    {
      "cell_type": "code",
      "source": [
        "!pip install ortools"
      ],
      "metadata": {
        "colab": {
          "base_uri": "https://localhost:8080/"
        },
        "id": "kGQDPiHwQGR5",
        "outputId": "19a4bee8-4fdb-47bf-985a-efb94c356f72"
      },
      "execution_count": null,
      "outputs": [
        {
          "output_type": "stream",
          "name": "stdout",
          "text": [
            "Collecting ortools\n",
            "  Downloading ortools-9.9.3963-cp310-cp310-manylinux_2_17_x86_64.manylinux2014_x86_64.whl (24.8 MB)\n",
            "\u001b[2K     \u001b[90m━━━━━━━━━━━━━━━━━━━━━━━━━━━━━━━━━━━━━━━━\u001b[0m \u001b[32m24.8/24.8 MB\u001b[0m \u001b[31m29.2 MB/s\u001b[0m eta \u001b[36m0:00:00\u001b[0m\n",
            "\u001b[?25hCollecting absl-py>=2.0.0 (from ortools)\n",
            "  Downloading absl_py-2.1.0-py3-none-any.whl (133 kB)\n",
            "\u001b[2K     \u001b[90m━━━━━━━━━━━━━━━━━━━━━━━━━━━━━━━━━━━━━━━━\u001b[0m \u001b[32m133.7/133.7 kB\u001b[0m \u001b[31m11.3 MB/s\u001b[0m eta \u001b[36m0:00:00\u001b[0m\n",
            "\u001b[?25hRequirement already satisfied: numpy>=1.13.3 in /usr/local/lib/python3.10/dist-packages (from ortools) (1.25.2)\n",
            "Requirement already satisfied: pandas>=2.0.0 in /usr/local/lib/python3.10/dist-packages (from ortools) (2.0.3)\n",
            "Collecting protobuf>=4.25.3 (from ortools)\n",
            "  Downloading protobuf-5.26.1-cp37-abi3-manylinux2014_x86_64.whl (302 kB)\n",
            "\u001b[2K     \u001b[90m━━━━━━━━━━━━━━━━━━━━━━━━━━━━━━━━━━━━━━━━\u001b[0m \u001b[32m302.8/302.8 kB\u001b[0m \u001b[31m3.9 MB/s\u001b[0m eta \u001b[36m0:00:00\u001b[0m\n",
            "\u001b[?25hCollecting immutabledict>=3.0.0 (from ortools)\n",
            "  Downloading immutabledict-4.2.0-py3-none-any.whl (4.7 kB)\n",
            "Requirement already satisfied: python-dateutil>=2.8.2 in /usr/local/lib/python3.10/dist-packages (from pandas>=2.0.0->ortools) (2.8.2)\n",
            "Requirement already satisfied: pytz>=2020.1 in /usr/local/lib/python3.10/dist-packages (from pandas>=2.0.0->ortools) (2023.4)\n",
            "Requirement already satisfied: tzdata>=2022.1 in /usr/local/lib/python3.10/dist-packages (from pandas>=2.0.0->ortools) (2024.1)\n",
            "Requirement already satisfied: six>=1.5 in /usr/local/lib/python3.10/dist-packages (from python-dateutil>=2.8.2->pandas>=2.0.0->ortools) (1.16.0)\n",
            "Installing collected packages: protobuf, immutabledict, absl-py, ortools\n",
            "  Attempting uninstall: protobuf\n",
            "    Found existing installation: protobuf 3.20.3\n",
            "    Uninstalling protobuf-3.20.3:\n",
            "      Successfully uninstalled protobuf-3.20.3\n",
            "  Attempting uninstall: absl-py\n",
            "    Found existing installation: absl-py 1.4.0\n",
            "    Uninstalling absl-py-1.4.0:\n",
            "      Successfully uninstalled absl-py-1.4.0\n",
            "\u001b[31mERROR: pip's dependency resolver does not currently take into account all the packages that are installed. This behaviour is the source of the following dependency conflicts.\n",
            "google-ai-generativelanguage 0.6.2 requires protobuf!=3.20.0,!=3.20.1,!=4.21.0,!=4.21.1,!=4.21.2,!=4.21.3,!=4.21.4,!=4.21.5,<5.0.0dev,>=3.19.5, but you have protobuf 5.26.1 which is incompatible.\n",
            "google-api-core 2.11.1 requires protobuf!=3.20.0,!=3.20.1,!=4.21.0,!=4.21.1,!=4.21.2,!=4.21.3,!=4.21.4,!=4.21.5,<5.0.0.dev0,>=3.19.5, but you have protobuf 5.26.1 which is incompatible.\n",
            "google-cloud-aiplatform 1.48.0 requires protobuf!=3.20.0,!=3.20.1,!=4.21.0,!=4.21.1,!=4.21.2,!=4.21.3,!=4.21.4,!=4.21.5,<5.0.0dev,>=3.19.5, but you have protobuf 5.26.1 which is incompatible.\n",
            "google-cloud-bigquery-connection 1.12.1 requires protobuf!=3.20.0,!=3.20.1,!=4.21.0,!=4.21.1,!=4.21.2,!=4.21.3,!=4.21.4,!=4.21.5,<5.0.0dev,>=3.19.5, but you have protobuf 5.26.1 which is incompatible.\n",
            "google-cloud-bigquery-storage 2.24.0 requires protobuf!=3.20.0,!=3.20.1,!=4.21.0,!=4.21.1,!=4.21.2,!=4.21.3,!=4.21.4,!=4.21.5,<5.0.0dev,>=3.19.5, but you have protobuf 5.26.1 which is incompatible.\n",
            "google-cloud-datastore 2.15.2 requires protobuf!=3.20.0,!=3.20.1,!=4.21.0,!=4.21.1,!=4.21.2,!=4.21.3,!=4.21.4,!=4.21.5,<5.0.0dev,>=3.19.5, but you have protobuf 5.26.1 which is incompatible.\n",
            "google-cloud-firestore 2.11.1 requires protobuf!=3.20.0,!=3.20.1,!=4.21.0,!=4.21.1,!=4.21.2,!=4.21.3,!=4.21.4,!=4.21.5,<5.0.0dev,>=3.19.5, but you have protobuf 5.26.1 which is incompatible.\n",
            "google-cloud-functions 1.13.3 requires protobuf!=3.20.0,!=3.20.1,!=4.21.0,!=4.21.1,!=4.21.2,!=4.21.3,!=4.21.4,!=4.21.5,<5.0.0dev,>=3.19.5, but you have protobuf 5.26.1 which is incompatible.\n",
            "google-cloud-iam 2.15.0 requires protobuf!=3.20.0,!=3.20.1,!=4.21.0,!=4.21.1,!=4.21.2,!=4.21.3,!=4.21.4,!=4.21.5,<5.0.0dev,>=3.19.5, but you have protobuf 5.26.1 which is incompatible.\n",
            "google-cloud-language 2.13.3 requires protobuf!=3.20.0,!=3.20.1,!=4.21.0,!=4.21.1,!=4.21.2,!=4.21.3,!=4.21.4,!=4.21.5,<5.0.0dev,>=3.19.5, but you have protobuf 5.26.1 which is incompatible.\n",
            "google-cloud-resource-manager 1.12.3 requires protobuf!=3.20.0,!=3.20.1,!=4.21.0,!=4.21.1,!=4.21.2,!=4.21.3,!=4.21.4,!=4.21.5,<5.0.0dev,>=3.19.5, but you have protobuf 5.26.1 which is incompatible.\n",
            "google-cloud-translate 3.11.3 requires protobuf!=3.20.0,!=3.20.1,!=4.21.0,!=4.21.1,!=4.21.2,!=4.21.3,!=4.21.4,!=4.21.5,<5.0.0dev,>=3.19.5, but you have protobuf 5.26.1 which is incompatible.\n",
            "googleapis-common-protos 1.63.0 requires protobuf!=3.20.0,!=3.20.1,!=4.21.1,!=4.21.2,!=4.21.3,!=4.21.4,!=4.21.5,<5.0.0.dev0,>=3.19.5, but you have protobuf 5.26.1 which is incompatible.\n",
            "grpc-google-iam-v1 0.13.0 requires protobuf!=3.20.0,!=3.20.1,!=4.21.1,!=4.21.2,!=4.21.3,!=4.21.4,!=4.21.5,<5.0.0dev,>=3.19.5, but you have protobuf 5.26.1 which is incompatible.\n",
            "proto-plus 1.23.0 requires protobuf<5.0.0dev,>=3.19.0, but you have protobuf 5.26.1 which is incompatible.\n",
            "tensorflow 2.15.0 requires protobuf!=4.21.0,!=4.21.1,!=4.21.2,!=4.21.3,!=4.21.4,!=4.21.5,<5.0.0dev,>=3.20.3, but you have protobuf 5.26.1 which is incompatible.\n",
            "tensorflow-metadata 1.15.0 requires protobuf<4.21,>=3.20.3; python_version < \"3.11\", but you have protobuf 5.26.1 which is incompatible.\u001b[0m\u001b[31m\n",
            "\u001b[0mSuccessfully installed absl-py-2.1.0 immutabledict-4.2.0 ortools-9.9.3963 protobuf-5.26.1\n"
          ]
        }
      ]
    },
    {
      "cell_type": "code",
      "execution_count": null,
      "metadata": {
        "colab": {
          "base_uri": "https://localhost:8080/"
        },
        "id": "eqxOXGrnPgKg",
        "outputId": "82a5efae-8ff3-4bad-f454-715cacb7158d"
      },
      "outputs": [
        {
          "output_type": "stream",
          "name": "stdout",
          "text": [
            "Flight 1:\n",
            "\tDavid\n",
            "\tJeremy\n",
            "\tBill\n",
            "\tCarol\n",
            "Flight 2:\n",
            "\tRon\n",
            "\tJoe\n",
            "\tFred\n",
            "\tMario\n",
            "\tInez\n",
            "Flight 3:\n",
            "\tTom\n",
            "\tDavid\n",
            "\tJeremy\n",
            "\tBill\n",
            "\tCarol\n",
            "Flight 4:\n",
            "\tRon\n",
            "\tJoe\n",
            "\tFred\n",
            "\tMario\n",
            "\tMarilyn\n",
            "\tInez\n",
            "Flight 5:\n",
            "\tTom\n",
            "\tDavid\n",
            "\tJeremy\n",
            "\tBill\n",
            "\tCarol\n",
            "\tJanet\n",
            "\tTracy\n",
            "Flight 6:\n",
            "\tRon\n",
            "\tJoe\n",
            "\tMario\n",
            "\tInez\n",
            "Flight 7:\n",
            "\tTom\n",
            "\tDavid\n",
            "\tJeremy\n",
            "\tBill\n",
            "\tCarol\n",
            "Flight 8:\n",
            "\tRon\n",
            "\tJoe\n",
            "\tFred\n",
            "\tBob\n",
            "\tMario\n",
            "\tInez\n",
            "Flight 9:\n",
            "\tTom\n",
            "\tDavid\n",
            "\tJeremy\n",
            "\tBill\n",
            "\tCarol\n",
            "\tJanet\n",
            "Flight 10:\n",
            "\tJeremy\n",
            "\tBill\n",
            "\tFred\n",
            "\tMario\n",
            "\tCathy\n",
            "\tInez\n",
            "\tJean\n"
          ]
        }
      ],
      "source": [
        "from ortools.sat.python import cp_model\n",
        "\n",
        "def aircrew_assignment():\n",
        "    model = cp_model.CpModel()\n",
        "\n",
        "    aircrew = {\n",
        "        'stewards': ['Tom', 'David', 'Jeremy', 'Ron', 'Joe', 'Bill', 'Fred', 'Bob', 'Mario', 'Ed'],\n",
        "        'air_hostesses': ['Carol', 'Janet', 'Tracy', 'Marilyn', 'Carolyn', 'Cathy', 'Inez', 'Jean', 'Heather', 'Juliet']\n",
        "    }\n",
        "    flights = list(range(1, 11))\n",
        "    aircrew_numbers = [4, 5, 5, 6, 7, 4, 5, 6, 6, 7]\n",
        "    min_hostesses = [1, 1, 1, 2, 3, 1, 1, 1, 2, 3]\n",
        "    min_stewards = [1, 1, 1, 2, 3, 1, 1, 1, 2, 3]\n",
        "\n",
        "    language_knowledge = {\n",
        "        'Francais': ['Inez', 'Bill', 'Jean', 'Juliet'],\n",
        "        'Espagnol': ['Tom', 'Jeremy', 'Mario', 'Cathy', 'Juliet'],\n",
        "        'Allemand': ['Bill', 'Fred', 'Joe', 'Mario', 'Marilyn', 'Inez', 'Heather']\n",
        "    }\n",
        "\n",
        "    assignments = {}\n",
        "    for flight in flights:\n",
        "        for aircrew_type in aircrew:\n",
        "            for member in aircrew[aircrew_type]:\n",
        "                assignments[(flight, member)] = model.NewBoolVar(f'flight_{flight}_{member}')\n",
        "\n",
        "    for flight in flights:\n",
        "        model.Add(sum(assignments[(flight, member)] for member in aircrew['stewards'] + aircrew['air_hostesses']) == aircrew_numbers[flight-1])\n",
        "\n",
        "        model.Add(sum(assignments[(flight, member)] for member in aircrew['air_hostesses']) >= min_hostesses[flight-1])\n",
        "        model.Add(sum(assignments[(flight, member)] for member in aircrew['stewards']) >= min_stewards[flight-1])\n",
        "\n",
        "        for language in language_knowledge:\n",
        "            members_with_language = [member for member in aircrew['stewards'] + aircrew['air_hostesses'] if member in language_knowledge[language]]\n",
        "            model.Add(sum(assignments[(flight, member)] for member in members_with_language) >= 1)\n",
        "\n",
        "    for i in range(1, len(flights) - 1):\n",
        "        for member in aircrew['stewards'] + aircrew['air_hostesses']:\n",
        "            model.Add(assignments[(i, member)] + assignments[(i + 1, member)] <= 1)\n",
        "\n",
        "    solver = cp_model.CpSolver()\n",
        "    status = solver.Solve(model)\n",
        "\n",
        "    if status == cp_model.OPTIMAL:\n",
        "        for flight in flights:\n",
        "            print(f\"Flight {flight}:\")\n",
        "            for member in aircrew['stewards'] + aircrew['air_hostesses']:\n",
        "                if solver.Value(assignments[(flight, member)]) == 1:\n",
        "                    print(f\"\\t{member}\")\n",
        "    else:\n",
        "        print(\"No solution found.\")\n",
        "\n",
        "aircrew_assignment()\n"
      ]
    },
    {
      "cell_type": "code",
      "source": [],
      "metadata": {
        "id": "FmvwleklQINW"
      },
      "execution_count": null,
      "outputs": []
    }
  ]
}